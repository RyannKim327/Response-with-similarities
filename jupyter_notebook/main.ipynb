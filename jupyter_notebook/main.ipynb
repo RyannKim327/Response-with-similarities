{
 "cells": [
  {
   "cell_type": "code",
   "execution_count": 1,
   "metadata": {},
   "outputs": [
    {
     "name": "stdout",
     "output_type": "stream",
     "text": [
      "Hello World\n"
     ]
    }
   ],
   "source": [
    "import json\n",
    "import re\n",
    "import random"
   ]
  },
  {
   "cell_type": "code",
   "execution_count": null,
   "metadata": {},
   "outputs": [],
   "source": [
    "class similarities:\n",
    "    def __init__(seld, base: str = \"\"):\n",
    "        self.respo = []\n",
    "        self.base = base\n",
    "\n",
    "    def compare(self, inserted_data: str, hasReturn: bool = False) -> dict:\n",
    "        first = re.split(\"\\s\", self.base)\n",
    "        second = re.split(\"\\s\", inserted_data)\n",
    "        percent = 0\n",
    "        \n",
    "        for i in range(len(first)):\n",
    "            for j in range(len(second)):\n",
    "                if first[i].lower() == second[j].lower():\n",
    "                    percent += len(first[i])\n",
    "                else:\n",
    "                    for k in range(len(first[i])):\n",
    "                        for l in range(len(second[j])):\n",
    "                            if first[i][k].lower() == second[j][l].lower():\n",
    "                                percent += (len(first[i]) / len(second[j])) * 0.01\n",
    "        \n",
    "        similar = round(result / len(furst)) * 100\n",
    "        self.respo.append({\n",
    "            \"similar\": similar,\n",
    "            \"base\": self.base,\n",
    "            \"input\": inserted_data\n",
    "        })\n",
    "        if hasReturn:\n",
    "            return {\n",
    "                \"similar\": similar,\n",
    "                \"base\": self.base,\n",
    "                \"input\": inserted_data\n",
    "            }"
   ]
  },
  {
   "cell_type": "code",
   "execution_count": null,
   "metadata": {},
   "outputs": [],
   "source": []
  }
 ],
 "metadata": {
  "kernelspec": {
   "display_name": "Python 3 (ipykernel)",
   "language": "python",
   "name": "python3"
  },
  "language_info": {
   "codemirror_mode": {
    "name": "ipython",
    "version": 3
   },
   "file_extension": ".py",
   "mimetype": "text/x-python",
   "name": "python",
   "nbconvert_exporter": "python",
   "pygments_lexer": "ipython3",
   "version": "3.11.0"
  },
  "vscode": {
   "interpreter": {
    "hash": "5ffd7eb2cebf9ac436b5021ba01877e9cee6b03524e01bf8c8637d3e64111215"
   }
  }
 },
 "nbformat": 4,
 "nbformat_minor": 2
}
